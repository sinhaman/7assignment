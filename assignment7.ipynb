{
 "cells": [
  {
   "cell_type": "markdown",
   "id": "29f58611",
   "metadata": {},
   "source": [
    "1. What is a RESTful API?\n",
    "A RESTful API (Representational State Transfer) is a web service architecture that uses HTTP requests to perform CRUD (Create, Read, Update, Delete) operations on resources, represented typically in JSON or XML format. RESTful APIs follow standard HTTP methods like GET, POST, PUT, DELETE and are stateless.\n",
    "\n"
   ]
  },
  {
   "cell_type": "markdown",
   "id": "33599115",
   "metadata": {},
   "source": [
    "2. Explain the concept of API specification.\n",
    "An API specification defines how an API should behave. It includes information such as endpoints, request and response formats, parameters, authentication methods, and status codes. Examples include OpenAPI (formerly Swagger), which allows developers to understand and test the API before implementation."
   ]
  },
  {
   "cell_type": "markdown",
   "id": "2431f106",
   "metadata": {},
   "source": [
    "3. What is Flask, and why is it popular for building APIs?\n",
    "Flask is a lightweight Python web framework. It’s popular for building APIs because it’s simple, flexible, and easy to use. It allows rapid development with minimal boilerplate code and supports extensions like Flask-RESTful and Flask-SQLAlchemy."
   ]
  },
  {
   "cell_type": "markdown",
   "id": "e8a0e67e",
   "metadata": {},
   "source": [
    "4. What is routing in Flask?\n",
    "Routing in Flask refers to mapping URLs to specific functions in your Python code using the @app.route() decorator. It determines what content to display when a user accesses a particular URL.\n",
    "\n"
   ]
  },
  {
   "cell_type": "markdown",
   "id": "fb1f223b",
   "metadata": {},
   "source": [
    "5. How do you create a simple Flask application?\n",
    "from flask import Flask\n",
    "\n",
    "app = Flask(__name__)\n",
    "\n",
    "@app.route('/')\n",
    "def hello():\n",
    "    return 'Hello, World!'\n",
    "\n",
    "if __name__ == '__main__':\n",
    "    app.run(debug=True)\n"
   ]
  },
  {
   "cell_type": "markdown",
   "id": "2a3f9044",
   "metadata": {},
   "source": [
    "6. What are HTTP methods used in RESTful APIs?\n",
    "\n",
    "GET: Retrieve data\n",
    "\n",
    "POST: Create new data\n",
    "\n",
    "PUT: Update existing data\n",
    "\n",
    "DELETE: Remove data\n",
    "\n",
    "PATCH: Partially update data\n",
    "\n",
    "OPTIONS, HEAD: Used for metadata and pre-flight checks"
   ]
  },
  {
   "cell_type": "markdown",
   "id": "f20abb00",
   "metadata": {},
   "source": [
    "7. What is the purpose of the @app.route() decorator in Flask?\n",
    "It binds a URL path to a function so that Flask knows what to execute when a user visits that path."
   ]
  },
  {
   "cell_type": "markdown",
   "id": "74bad2f8",
   "metadata": {},
   "source": [
    "8. What is the difference between GET and POST HTTP methods?\n",
    "\n",
    "GET: Requests data from a server; data is sent via URL.\n",
    "\n",
    "POST: Sends data to the server to create a resource; data is sent in the request body.\n",
    "\n"
   ]
  },
  {
   "cell_type": "markdown",
   "id": "e1003e57",
   "metadata": {},
   "source": [
    "9. How do you handle errors in Flask APIs?\n",
    "\n",
    "Edit\n",
    "@app.errorhandler(404)\n",
    "def not_found(error):\n",
    "    return {'error': 'Not Found'}, 404"
   ]
  },
  {
   "cell_type": "markdown",
   "id": "be1532da",
   "metadata": {},
   "source": [
    "10. How do you connect Flask to a SQL database?\n",
    "\n",
    "from flask_sqlalchemy import SQLAlchemy\n",
    "app.config['SQLALCHEMY_DATABASE_URI'] = 'sqlite:///example.db'\n",
    "db = SQLAlchemy(app)"
   ]
  },
  {
   "cell_type": "markdown",
   "id": "1ee28082",
   "metadata": {},
   "source": [
    "11. What is the role of Flask-SQLAlchemy?\n",
    "It is an ORM (Object Relational Mapper) that provides a high-level interface for interacting with SQL databases using Python classes and objects."
   ]
  },
  {
   "cell_type": "markdown",
   "id": "49ba7c75",
   "metadata": {},
   "source": [
    "12. What are Flask blueprints, and how are they useful?\n",
    "Blueprints allow modular organization of Flask apps. They help in structuring large applications by grouping routes and views logically."
   ]
  },
  {
   "cell_type": "markdown",
   "id": "394e1287",
   "metadata": {},
   "source": [
    "13. What is the purpose of Flask's request object?\n",
    "It provides access to incoming request data like form fields, JSON data, headers, and query parameters."
   ]
  },
  {
   "cell_type": "markdown",
   "id": "321d7816",
   "metadata": {},
   "source": [
    "14. How do you create a RESTful API endpoint using Flask?\n",
    "\n",
    "\n",
    "from flask import Flask, jsonify, request\n",
    "\n",
    "@app.route('/api/data', methods=['GET'])\n",
    "def get_data():\n",
    "    return jsonify({\"message\": \"Data retrieved\"})"
   ]
  },
  {
   "cell_type": "markdown",
   "id": "482cce02",
   "metadata": {},
   "source": [
    "15. What is the purpose of Flask's jsonify() function?\n",
    "It converts Python dictionaries into JSON responses with proper MIME types and status codes."
   ]
  },
  {
   "cell_type": "markdown",
   "id": "4cf1ecd6",
   "metadata": {},
   "source": [
    "16. Explain Flask’s url_for() function.\n",
    "\n",
    "url_for('hello')  # Returns '/'"
   ]
  },
  {
   "cell_type": "markdown",
   "id": "7c9068ce",
   "metadata": {},
   "source": [
    "17. How does Flask handle static files (CSS, JavaScript, etc.)?\n",
    "Flask serves static files from the /static directory by default. You can access them via /static/filename.ext.\n",
    "\n"
   ]
  },
  {
   "cell_type": "markdown",
   "id": "943b1d42",
   "metadata": {},
   "source": [
    "18. What is an API specification, and how does it help in building a Flask API?\n",
    "(Repeated question – see #2.) It helps developers understand the API's structure, ensure consistency, generate documentation, and support automated testing."
   ]
  },
  {
   "cell_type": "markdown",
   "id": "86aa9168",
   "metadata": {},
   "source": [
    "19. What are HTTP status codes, and why are they important in a Flask API?\n",
    "Status codes indicate the result of an HTTP request:\n",
    "\n",
    "200 OK: Success\n",
    "\n",
    "201 Created: Resource created\n",
    "\n",
    "400 Bad Request: Invalid input\n",
    "\n",
    "404 Not Found: Resource missing\n",
    "\n",
    "500 Internal Server Error: Server-side error\n",
    "They are essential for communicating success or failure to the client."
   ]
  },
  {
   "cell_type": "markdown",
   "id": "42e08e4f",
   "metadata": {},
   "source": [
    "20. How do you handle POST requests in Flask?\n",
    "\n",
    "\n",
    "@app.route('/submit', methods=['POST'])\n",
    "def submit():\n",
    "    data = request.get_json()\n",
    "    return jsonify(data), 201"
   ]
  },
  {
   "cell_type": "markdown",
   "id": "ef7daa79",
   "metadata": {},
   "source": [
    "21. How would you secure a Flask API?\n",
    "\n",
    "Use HTTPS\n",
    "\n",
    "Input validation and sanitization\n",
    "\n",
    "Use Flask extensions like Flask-JWT or Flask-Login\n",
    "\n",
    "Rate limiting and CORS policies\n",
    "\n",
    "API key or token-based authentication"
   ]
  },
  {
   "cell_type": "markdown",
   "id": "1c5735c2",
   "metadata": {},
   "source": [
    "22. What is the significance of the Flask-RESTful extension?\n",
    "It simplifies the creation of REST APIs in Flask by organizing resources and HTTP methods more cleanly and providing features like input parsing and error handling.\n",
    "\n"
   ]
  },
  {
   "cell_type": "markdown",
   "id": "e8bad918",
   "metadata": {},
   "source": [
    "23. What is the role of Flask’s session object?\n",
    "It stores user-specific data (like login state) across multiple requests using cookies. It's secure and signed to prevent tampering."
   ]
  },
  {
   "cell_type": "markdown",
   "id": "981d10cd",
   "metadata": {},
   "source": [
    "PRACTICAL QUESTION"
   ]
  },
  {
   "cell_type": "code",
   "execution_count": null,
   "id": "ac48a3f3",
   "metadata": {},
   "outputs": [],
   "source": [
    "1. How do you create a basic Flask application?\n",
    "\n",
    "\n",
    "from flask import Flask\n",
    "\n",
    "app = Flask(__name__)\n",
    "\n",
    "@app.route('/')\n",
    "def home():\n",
    "    return 'Hello, Flask!'\n",
    "\n",
    "if __name__ == '__main__':\n",
    "    app.run(debug=True)\n"
   ]
  },
  {
   "cell_type": "code",
   "execution_count": null,
   "id": "48c32d19",
   "metadata": {},
   "outputs": [],
   "source": [
    "2. How do you serve static files like images or CSS in Flask?\n",
    "\n",
    "Place files in a folder named static/.\n",
    "\n",
    "Access them in HTML using:\n",
    "\n",
    "html\n",
    "Copy\n",
    "Edit\n",
    "<link rel=\"stylesheet\" href=\"{{ url_for('static', filename='style.css') }}\">\n",
    "<img src=\"{{ url_for('static', filename='image.jpg') }}\">"
   ]
  },
  {
   "cell_type": "code",
   "execution_count": null,
   "id": "b8f71248",
   "metadata": {},
   "outputs": [],
   "source": [
    "3. How do you define different routes with different HTTP methods in Flask?\n",
    "\n",
    "\n",
    "@app.route('/submit', methods=['GET', 'POST'])\n",
    "def submit():\n",
    "    if request.method == 'POST':\n",
    "        return 'Form submitted!'\n",
    "    return 'Submit the form.'"
   ]
  },
  {
   "cell_type": "code",
   "execution_count": null,
   "id": "5211af8c",
   "metadata": {},
   "outputs": [],
   "source": [
    "4. How do you render HTML templates in Flask?\n",
    "\n",
    "Place your HTML files in the templates/ folder.\n",
    "\n",
    "Use render_template():\n",
    "\n",
    "from flask import render_template\n",
    "\n",
    "@app.route('/about')\n",
    "def about():\n",
    "    return render_template('about.html')"
   ]
  },
  {
   "cell_type": "code",
   "execution_count": null,
   "id": "5998544a",
   "metadata": {},
   "outputs": [],
   "source": [
    "5. How can you generate URLs for routes in Flask using url_for()?\n",
    "\n",
    "\n",
    "@app.route('/dashboard')\n",
    "def dashboard():\n",
    "    return 'Welcome to dashboard!'\n",
    "\n",
    "# In HTML or Python:\n",
    "url_for('dashboard')  # returns '/dashboard'"
   ]
  },
  {
   "cell_type": "code",
   "execution_count": null,
   "id": "dd982682",
   "metadata": {},
   "outputs": [],
   "source": [
    "6. How do you handle forms in Flask?\n",
    "\n",
    "from flask import request\n",
    "\n",
    "@app.route('/form', methods=['POST'])\n",
    "def handle_form():\n",
    "    name = request.form['name']\n",
    "    return f'Hello, {name}!'"
   ]
  },
  {
   "cell_type": "code",
   "execution_count": null,
   "id": "18b1e004",
   "metadata": {},
   "outputs": [],
   "source": [
    "7. How can you validate form data in Flask?\n",
    "Manually:\n",
    "\n",
    "\n",
    "if not request.form['name']:\n",
    "    return 'Name is required!', 400"
   ]
  },
  {
   "cell_type": "code",
   "execution_count": null,
   "id": "8372bddc",
   "metadata": {},
   "outputs": [],
   "source": [
    "8. How do you manage sessions in Flask?\n",
    "\n",
    "from flask import session\n",
    "\n",
    "app.secret_key = 'your_secret_key'\n",
    "\n",
    "@app.route('/login', methods=['POST'])\n",
    "def login():\n",
    "    session['user'] = request.form['username']\n",
    "    return 'Logged in'"
   ]
  },
  {
   "cell_type": "code",
   "execution_count": null,
   "id": "3dc62a4c",
   "metadata": {},
   "outputs": [],
   "source": [
    "9. How do you redirect to a different route in Flask?\n",
    "\n",
    "\n",
    "from flask import redirect, url_for\n",
    "\n",
    "@app.route('/old')\n",
    "def old():\n",
    "    return redirect(url_for('new'))\n",
    "\n",
    "@app.route('/new')\n",
    "def new():\n",
    "    return 'You are at the new page!'"
   ]
  },
  {
   "cell_type": "code",
   "execution_count": null,
   "id": "b4d2637b",
   "metadata": {},
   "outputs": [],
   "source": [
    "10. How do you handle errors in Flask (e.g., 404)?\n",
    "\n",
    "\n",
    "@app.errorhandler(404)\n",
    "def not_found(error):\n",
    "    return render_template('404.html'), 404"
   ]
  },
  {
   "cell_type": "code",
   "execution_count": null,
   "id": "67d342be",
   "metadata": {},
   "outputs": [],
   "source": [
    "11. How do you structure a Flask app using Blueprints?\n",
    "\n",
    "\n",
    "# In users.py\n",
    "from flask import Blueprint\n",
    "\n",
    "users = Blueprint('users', __name__)\n",
    "\n",
    "@users.route('/profile')\n",
    "def profile():\n",
    "    return 'User profile'\n",
    "\n",
    "# In main app\n",
    "from users import users\n",
    "\n",
    "app.register_blueprint(users, url_prefix='/user')\n"
   ]
  },
  {
   "cell_type": "code",
   "execution_count": null,
   "id": "49a16b3a",
   "metadata": {},
   "outputs": [],
   "source": [
    "12. How do you define a custom Jinja filter in Flask?\n",
    "\n",
    "\n",
    "@app.template_filter('reverse')\n",
    "def reverse_filter(s):\n",
    "    return s[::-1]\n",
    "\n",
    "# In template: {{ 'hello'|reverse }} → 'olleh'"
   ]
  },
  {
   "cell_type": "code",
   "execution_count": null,
   "id": "95e5a8ba",
   "metadata": {},
   "outputs": [],
   "source": [
    "13. How can you redirect with query parameters in Flask?\n",
    "\n",
    "\n",
    "return redirect(url_for('search', q='flask'))\n",
    "\n",
    "# Target route:\n",
    "@app.route('/search')\n",
    "def search():\n",
    "    query = request.args.get('q')\n",
    "    return f'Searching for {query}'"
   ]
  },
  {
   "cell_type": "code",
   "execution_count": null,
   "id": "5e06e98b",
   "metadata": {},
   "outputs": [],
   "source": [
    "14. How do you return JSON responses in Flask?\n",
    "\n",
    "\n",
    "from flask import jsonify\n",
    "\n",
    "@app.route('/api/data')\n",
    "def data():\n",
    "    return jsonify({'name': 'Flask', 'version': 2})"
   ]
  },
  {
   "cell_type": "code",
   "execution_count": null,
   "id": "4b2b1d20",
   "metadata": {},
   "outputs": [],
   "source": [
    "15. How do you capture URL parameters in Flask?\n",
    "\n",
    "\n",
    "@app.route('/user/<username>')\n",
    "def show_user(username):\n",
    "    return f'User: {username}'"
   ]
  }
 ],
 "metadata": {
  "kernelspec": {
   "display_name": "Python 3",
   "language": "python",
   "name": "python3"
  },
  "language_info": {
   "codemirror_mode": {
    "name": "ipython",
    "version": 3
   },
   "file_extension": ".py",
   "mimetype": "text/x-python",
   "name": "python",
   "nbconvert_exporter": "python",
   "pygments_lexer": "ipython3",
   "version": "3.13.2"
  }
 },
 "nbformat": 4,
 "nbformat_minor": 5
}
